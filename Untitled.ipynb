{
 "cells": [
  {
   "cell_type": "markdown",
   "id": "50229ed7-cac5-4cf0-9db0-06b4932ff2ef",
   "metadata": {},
   "source": [
    "# My first notebook\n",
    "This is my first notebook. This text is made with Markdown."
   ]
  },
  {
   "cell_type": "raw",
   "id": "7c57f7d4-6f65-4664-b992-0097115e5eff",
   "metadata": {},
   "source": [
    "Testy"
   ]
  },
  {
   "cell_type": "code",
   "execution_count": 1,
   "id": "e2d3a424-0c7c-430d-bbce-02dc1fe970d9",
   "metadata": {},
   "outputs": [
    {
     "name": "stdout",
     "output_type": "stream",
     "text": [
      "This is another cell, this text was printed by Python\n"
     ]
    }
   ],
   "source": [
    "print(\"This is another cell, this text was printed by Python\")"
   ]
  },
  {
   "cell_type": "code",
   "execution_count": 3,
   "id": "526336ed-3d0d-4e09-a50b-db5162aa87d6",
   "metadata": {},
   "outputs": [
    {
     "data": {
      "text/plain": [
       "4"
      ]
     },
     "execution_count": 3,
     "metadata": {},
     "output_type": "execute_result"
    }
   ],
   "source": [
    "2+2"
   ]
  },
  {
   "cell_type": "code",
   "execution_count": null,
   "id": "996fb290-7ff0-4eea-afc6-e057327c9581",
   "metadata": {},
   "outputs": [],
   "source": []
  }
 ],
 "metadata": {
  "kernelspec": {
   "display_name": "Python 3 (ipykernel)",
   "language": "python",
   "name": "python3"
  },
  "language_info": {
   "codemirror_mode": {
    "name": "ipython",
    "version": 3
   },
   "file_extension": ".py",
   "mimetype": "text/x-python",
   "name": "python",
   "nbconvert_exporter": "python",
   "pygments_lexer": "ipython3",
   "version": "3.9.6"
  }
 },
 "nbformat": 4,
 "nbformat_minor": 5
}
